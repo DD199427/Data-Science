{
 "cells": [
  {
   "cell_type": "code",
   "execution_count": 4,
   "metadata": {},
   "outputs": [],
   "source": [
    "import os\n",
    "import urllib3\n",
    "import json\n",
    "import joblib\n",
    "\n",
    "import networkx as nx\n",
    "import matplotlib.pyplot as plt\n",
    "from bs4 import BeautifulSoup \n",
    "import requests "
   ]
  },
  {
   "cell_type": "code",
   "execution_count": 5,
   "metadata": {},
   "outputs": [
    {
     "data": {
      "text/plain": [
       "[['arrays', 'matrix', 'octave'],\n",
       " ['ios', 'apple-developer', 'user-enrollment'],\n",
       " ['html', 'flutter', 'dart'],\n",
       " ['reinforcement-learning', 'carla'],\n",
       " ['perl']]"
      ]
     },
     "execution_count": 5,
     "metadata": {},
     "output_type": "execute_result"
    }
   ],
   "source": [
    "def scrape_tags(url, cleaned_tags_list):\n",
    "    req = requests.get(url)  \n",
    "    html_doc = req.text \n",
    "    soup = BeautifulSoup(html_doc, 'lxml')\n",
    "    paragraph = soup.find_all('p')       #finding the content within all of the paragraph \n",
    "    string = str(paragraph)               #converting it to string to work with\n",
    "    tag_split = string.split('tags')    \n",
    "    tag_list = []                  #list to store the tags\n",
    "    for i in range(1,len(tag_split)):\n",
    "        tags = tag_split[i].split('owner')[0][2:-2]\n",
    "        tag_list.append(tags)\n",
    "    clean_tags(tag_list, cleaned_tags_list)\n",
    "    \n",
    "def clean_tags(tag_list, cleaned_tags_list):\n",
    "    for tags in tag_list:\n",
    "        tags = tags.split(',')\n",
    "        temp_list = [] #a temporary list to store cleaned tags\n",
    "        for tag in tags:\n",
    "            temp_list.append(tag.replace('\"','').replace('[','').replace(']',''))\n",
    "        cleaned_tags_list.append(temp_list)\n",
    "cleaned_tags_list = []  #list to stores tags of all the scraped questions\n",
    "for page in range(1,101):\n",
    "    url = 'https://api.stackexchange.com/2.2/questions?page='+str(page)+'&pagesize=100&order=desc&sort=activity&site=stackoverflow'\n",
    "    scrape_tags(url, cleaned_tags_list)\n",
    "cleaned_tags_list[:5]"
   ]
  },
  {
   "cell_type": "code",
   "execution_count": 6,
   "metadata": {},
   "outputs": [],
   "source": [
    "#creating a weighted graph using the tags     \n",
    "tag_graph = nx.Graph()\n",
    "for tag_list in cleaned_tags_list:\n",
    "    #if there is only one tag in the list add it to the node if it is not already present\n",
    "    if len(tag_list) == 1: \n",
    "        if tag_list[0] not in list(tag_graph.nodes()):\n",
    "                tag_graph.add_node(tag_list[0])\n",
    "    else:    \n",
    "        while(len(tag_list)>1):\n",
    "            tag = tag_list.pop(0) #taking a tag\n",
    "            if tag not in list(tag_graph.nodes()): #checking if the tag is already present in the graph\n",
    "                tag_graph.add_node(tag) #adding the tag as a node\n",
    "            for temp_tag in tag_list:   #taking the remaining tags \n",
    "                if (tag, temp_tag) not in tag_graph.edges([tag]): #checking if there is already a edge present between the two tags\n",
    "                    tag_graph.add_edge(tag,temp_tag,weight=1) #adding an edge initialized with weight 1\n",
    "                else: #if there is already an edge present\n",
    "                    tag_graph[tag][temp_tag]['weight'] += 1 #increamenting the weight\n",
    "        if tag_list[0] not in list(tag_graph.nodes()): #adding the last node in the current list to the graph if already not present\n",
    "                tag_graph.add_node(tag_list[0])"
   ]
  },
  {
   "cell_type": "code",
   "execution_count": 8,
   "metadata": {},
   "outputs": [],
   "source": [
    "#storing the graph in a dictonary to reuse the graph\n",
    "serialized_graph = nx.readwrite.json_graph.node_link_data(tag_graph)\n",
    "#nodes is a list of all the nodes in the graph\n",
    "nodes = serialized_graph['nodes']\n",
    "#edges is a list of all the edges in the graph\n",
    "edges  = serialized_graph['links']\n",
    "#storing the nodes in a text file\n",
    "with open('nodes.txt', 'w') as outfile:\n",
    "    json.dump(edges, outfile)\n",
    "#storing the edges in a text file\n",
    "with open('edges.txt', 'w') as outfile:\n",
    "    json.dump(edges, outfile)\n",
    "#function used in app.py to get related tags\n",
    "def related_tags(edges_list, tag):\n",
    "    max_related_tags = 10\n",
    "    tag_weight = []\n",
    "    for edge in edges_list:\n",
    "        if edge['source'] == tag:\n",
    "            temp = [] #temporary list\n",
    "            temp.append(edge['target'])\n",
    "            temp.append(edge['weight'])\n",
    "            tag_weight.append(temp)\n",
    "        elif edge['target'] == tag:\n",
    "            temp = []\n",
    "            temp.append(edge['source'])\n",
    "            temp.append(edge['weight'])\n",
    "            tag_weight.append(temp)    \n",
    "    sorted_weight_tag = sorted(tag_weight , key = lambda x:x[1] , reverse = True) #sorting the weights in decreasing order\n",
    "    top_related_tags_list = [x[0] for x in sorted_weight_tag] #getting the realted tags based on the weights\n",
    "    if len(top_related_tags_list) < max_related_tags: #if the total number of related tags is less than what we require \n",
    "        return top_related_tags_list\n",
    "    else:\n",
    "        return top_related_tags_list[:max_related_tags]"
   ]
  },
  {
   "cell_type": "code",
   "execution_count": null,
   "metadata": {},
   "outputs": [],
   "source": []
  }
 ],
 "metadata": {
  "kernelspec": {
   "display_name": "Python 3",
   "language": "python",
   "name": "python3"
  },
  "language_info": {
   "codemirror_mode": {
    "name": "ipython",
    "version": 3
   },
   "file_extension": ".py",
   "mimetype": "text/x-python",
   "name": "python",
   "nbconvert_exporter": "python",
   "pygments_lexer": "ipython3",
   "version": "3.7.4"
  }
 },
 "nbformat": 4,
 "nbformat_minor": 4
}
