{
 "cells": [
  {
   "cell_type": "code",
   "execution_count": 15,
   "metadata": {},
   "outputs": [],
   "source": [
    "import os\n",
    "import urllib3\n",
    "import json\n",
    "import joblib\n",
    "\n",
    "import networkx as nx\n",
    "import matplotlib.pyplot as plt"
   ]
  },
  {
   "cell_type": "code",
   "execution_count": 16,
   "metadata": {},
   "outputs": [],
   "source": [
    "class ExtractData:\n",
    "    \n",
    "    stack_exchange_tags = []\n",
    "    stack_exchange_url = \"\"\n",
    "    tags_file_url = \"\"\n",
    "    http = None\n",
    "    \n",
    "    def __init__(self, stack_exchange_url, tags_file_url):\n",
    "        self.stack_exchange_url = stack_exchange_url\n",
    "        self.tags_file_url = tags_file_url + \"datascience_stackexchange_tag.joblib\"\n",
    "        self.http = urllib3.PoolManager()\n",
    "    \n",
    "    def extractTagsFromData(self, data):\n",
    "        json_data = json.loads(data)\n",
    "        for item in json_data[\"items\"]:\n",
    "            self.stack_exchange_tags.append(item[\"tags\"])\n",
    "\n",
    "    def getDataFromApi(self):\n",
    "        for i in range(1, 101):\n",
    "            url = self.stack_exchange_url.partition(\"=\")\n",
    "            url = url[0] + url[1] + str(i) + url[2][1:]\n",
    "            response = self.http.request('GET', url)\n",
    "            if(response.status == 200):\n",
    "                json_data = self.extractTagsFromData(response.data)\n",
    "            else:\n",
    "                continue\n",
    "        self.writeExtractedTagsInPickelFile()\n",
    "\n",
    "    def writeExtractedTagsInPickelFile(self):\n",
    "        joblib.dump(self.stack_exchange_tags, self.tags_file_url)\n",
    "        \n",
    "    def loadTagsFromFile(self):\n",
    "        if(os.path.isfile(self.tags_file_url)):\n",
    "            self.stack_exchange_tags = joblib.load(self.tags_file_url)\n",
    "        \n",
    "    def extractData(self):\n",
    "        if(not os.path.isfile(self.tags_file_url)):\n",
    "            print(\"File not present... downloading data...\")\n",
    "            self.getDataFromApi()\n",
    "        else:\n",
    "            print(\"Reading from the file.......\\n\")\n",
    "            self.loadTagsFromFile()"
   ]
  },
  {
   "cell_type": "code",
   "execution_count": 17,
   "metadata": {},
   "outputs": [],
   "source": [
    "class Graph:\n",
    "    Tag_G = None\n",
    "    \n",
    "    def __init__(self):\n",
    "        self.Tag_G = nx.Graph()\n",
    "        \n",
    "    def createGraph(self, stack_exchange_tags):\n",
    "        for tag in stack_exchange_tags:\n",
    "            prev = []\n",
    "            for item in tag:\n",
    "                if item not in self.Tag_G:\n",
    "                    self.Tag_G.add_node(item)\n",
    "                if(len(prev)!=0):\n",
    "                    for node in prev:\n",
    "                        if(self.Tag_G.has_edge(item, node)):\n",
    "                            wt = self.Tag_G[item][node][\"weight\"]\n",
    "                            self.Tag_G[item][node][\"weight\"] = wt+1\n",
    "                        else:\n",
    "                            self.Tag_G.add_edge(item, node, weight=1)\n",
    "                prev.append(item)\n",
    "            \n",
    "    def generateEdgeList(self):\n",
    "        print(\"Edge List:\")\n",
    "        for ed in nx.generate_edgelist(self.Tag_G):\n",
    "            print(ed)\n",
    "            \n",
    "    def findNeighborsOfaTag(self, tag):\n",
    "        neighbors_list = list(self.Tag_G.neighbors(tag))\n",
    "        edge_with_weights = []\n",
    "        for neighbor in neighbors_list:\n",
    "            wt = self.Tag_G.get_edge_data(tag, neighbor)\n",
    "            edge_with_weights.append((neighbor, wt[\"weight\"]))\n",
    "        edge_with_weights = tuple(sorted(edge_with_weights,key = lambda x: x[1], reverse=True))\n",
    "        associated_tags = self.generateAssociatedTags(tag, edge_with_weights)\n",
    "        return associated_tags\n",
    "        \n",
    "    def generateAssociatedTags(self, tag, edge_with_weights):\n",
    "        associatedTags = [tag]\n",
    "        for edge in edge_with_weights:\n",
    "            associatedTags.append(edge[0])\n",
    "        return associatedTags\n",
    "    \n",
    "    def plotGraph(self):\n",
    "        #set figure size\n",
    "        plt.figure(figsize=(50, 50)) \n",
    "        e_list = [(u, v) for (u, v, d) in Tag_G.edges(data=True)]\n",
    "\n",
    "        pos = nx.spring_layout(Tag_G)  # positions for all nodes\n",
    "\n",
    "        # nodes\n",
    "        nx.draw_networkx_nodes(Tag_G, pos, node_size=700)\n",
    "\n",
    "        # edges\n",
    "        nx.draw_networkx_edges(Tag_G, pos, edgelist=e_list, width=1)\n",
    "\n",
    "        # labels\n",
    "        nx.draw_networkx_labels(Tag_G, pos, font_size=8, font_family='sans-serif')\n",
    "        plt.axis('off')\n",
    "        plt.show()"
   ]
  },
  {
   "cell_type": "code",
   "execution_count": 18,
   "metadata": {},
   "outputs": [],
   "source": [
    "def main():\n",
    "    api_url = \"https://api.stackexchange.com/2.2/questions?page=1&pagesize=100&order=desc&sort=activity&site=datascience\"\n",
    "    file_url = \"E://Ureka//\"\n",
    "    extract = ExtractData(api_url, file_url)\n",
    "    graph = Graph()\n",
    "    extract.extractData()\n",
    "    graph.createGraph(extract.stack_exchange_tags)\n",
    "    query = input(\"Enter the search query: \")\n",
    "    associated_tags = graph.findNeighborsOfaTag(query)\n",
    "    print(f\"Searching for {query}....\\n\")\n",
    "    print(\"Result is :\")\n",
    "    print(associated_tags)"
   ]
  },
  {
   "cell_type": "code",
   "execution_count": 20,
   "metadata": {},
   "outputs": [
    {
     "name": "stdout",
     "output_type": "stream",
     "text": [
      "Reading from the file.......\n",
      "\n"
     ]
    },
    {
     "name": "stdin",
     "output_type": "stream",
     "text": [
      "Enter the search query:  svd\n"
     ]
    },
    {
     "ename": "NetworkXError",
     "evalue": "The node svd is not in the graph.",
     "output_type": "error",
     "traceback": [
      "\u001b[1;31m---------------------------------------------------------------------------\u001b[0m",
      "\u001b[1;31mKeyError\u001b[0m                                  Traceback (most recent call last)",
      "\u001b[1;32m~\\Anaconda3\\lib\\site-packages\\networkx\\classes\\graph.py\u001b[0m in \u001b[0;36mneighbors\u001b[1;34m(self, n)\u001b[0m\n\u001b[0;32m   1265\u001b[0m         \u001b[1;32mtry\u001b[0m\u001b[1;33m:\u001b[0m\u001b[1;33m\u001b[0m\u001b[1;33m\u001b[0m\u001b[0m\n\u001b[1;32m-> 1266\u001b[1;33m             \u001b[1;32mreturn\u001b[0m \u001b[0miter\u001b[0m\u001b[1;33m(\u001b[0m\u001b[0mself\u001b[0m\u001b[1;33m.\u001b[0m\u001b[0m_adj\u001b[0m\u001b[1;33m[\u001b[0m\u001b[0mn\u001b[0m\u001b[1;33m]\u001b[0m\u001b[1;33m)\u001b[0m\u001b[1;33m\u001b[0m\u001b[1;33m\u001b[0m\u001b[0m\n\u001b[0m\u001b[0;32m   1267\u001b[0m         \u001b[1;32mexcept\u001b[0m \u001b[0mKeyError\u001b[0m\u001b[1;33m:\u001b[0m\u001b[1;33m\u001b[0m\u001b[1;33m\u001b[0m\u001b[0m\n",
      "\u001b[1;31mKeyError\u001b[0m: 'svd'",
      "\nDuring handling of the above exception, another exception occurred:\n",
      "\u001b[1;31mNetworkXError\u001b[0m                             Traceback (most recent call last)",
      "\u001b[1;32m<ipython-input-20-68fc34c81b28>\u001b[0m in \u001b[0;36m<module>\u001b[1;34m\u001b[0m\n\u001b[0;32m      1\u001b[0m \u001b[1;32mif\u001b[0m \u001b[0m__name__\u001b[0m\u001b[1;33m==\u001b[0m\u001b[1;34m\"__main__\"\u001b[0m\u001b[1;33m:\u001b[0m\u001b[1;33m\u001b[0m\u001b[1;33m\u001b[0m\u001b[0m\n\u001b[1;32m----> 2\u001b[1;33m     \u001b[0mmain\u001b[0m\u001b[1;33m(\u001b[0m\u001b[1;33m)\u001b[0m\u001b[1;33m\u001b[0m\u001b[1;33m\u001b[0m\u001b[0m\n\u001b[0m",
      "\u001b[1;32m<ipython-input-18-d01f4f04b296>\u001b[0m in \u001b[0;36mmain\u001b[1;34m()\u001b[0m\n\u001b[0;32m      7\u001b[0m     \u001b[0mgraph\u001b[0m\u001b[1;33m.\u001b[0m\u001b[0mcreateGraph\u001b[0m\u001b[1;33m(\u001b[0m\u001b[0mextract\u001b[0m\u001b[1;33m.\u001b[0m\u001b[0mstack_exchange_tags\u001b[0m\u001b[1;33m)\u001b[0m\u001b[1;33m\u001b[0m\u001b[1;33m\u001b[0m\u001b[0m\n\u001b[0;32m      8\u001b[0m     \u001b[0mquery\u001b[0m \u001b[1;33m=\u001b[0m \u001b[0minput\u001b[0m\u001b[1;33m(\u001b[0m\u001b[1;34m\"Enter the search query: \"\u001b[0m\u001b[1;33m)\u001b[0m\u001b[1;33m\u001b[0m\u001b[1;33m\u001b[0m\u001b[0m\n\u001b[1;32m----> 9\u001b[1;33m     \u001b[0massociated_tags\u001b[0m \u001b[1;33m=\u001b[0m \u001b[0mgraph\u001b[0m\u001b[1;33m.\u001b[0m\u001b[0mfindNeighborsOfaTag\u001b[0m\u001b[1;33m(\u001b[0m\u001b[0mquery\u001b[0m\u001b[1;33m)\u001b[0m\u001b[1;33m\u001b[0m\u001b[1;33m\u001b[0m\u001b[0m\n\u001b[0m\u001b[0;32m     10\u001b[0m     \u001b[0mprint\u001b[0m\u001b[1;33m(\u001b[0m\u001b[1;34mf\"Searching for {query}....\\n\"\u001b[0m\u001b[1;33m)\u001b[0m\u001b[1;33m\u001b[0m\u001b[1;33m\u001b[0m\u001b[0m\n\u001b[0;32m     11\u001b[0m     \u001b[0mprint\u001b[0m\u001b[1;33m(\u001b[0m\u001b[1;34m\"Result is :\"\u001b[0m\u001b[1;33m)\u001b[0m\u001b[1;33m\u001b[0m\u001b[1;33m\u001b[0m\u001b[0m\n",
      "\u001b[1;32m<ipython-input-17-3e5f10fd8623>\u001b[0m in \u001b[0;36mfindNeighborsOfaTag\u001b[1;34m(self, tag)\u001b[0m\n\u001b[0;32m     26\u001b[0m \u001b[1;33m\u001b[0m\u001b[0m\n\u001b[0;32m     27\u001b[0m     \u001b[1;32mdef\u001b[0m \u001b[0mfindNeighborsOfaTag\u001b[0m\u001b[1;33m(\u001b[0m\u001b[0mself\u001b[0m\u001b[1;33m,\u001b[0m \u001b[0mtag\u001b[0m\u001b[1;33m)\u001b[0m\u001b[1;33m:\u001b[0m\u001b[1;33m\u001b[0m\u001b[1;33m\u001b[0m\u001b[0m\n\u001b[1;32m---> 28\u001b[1;33m         \u001b[0mneighbors_list\u001b[0m \u001b[1;33m=\u001b[0m \u001b[0mlist\u001b[0m\u001b[1;33m(\u001b[0m\u001b[0mself\u001b[0m\u001b[1;33m.\u001b[0m\u001b[0mTag_G\u001b[0m\u001b[1;33m.\u001b[0m\u001b[0mneighbors\u001b[0m\u001b[1;33m(\u001b[0m\u001b[0mtag\u001b[0m\u001b[1;33m)\u001b[0m\u001b[1;33m)\u001b[0m\u001b[1;33m\u001b[0m\u001b[1;33m\u001b[0m\u001b[0m\n\u001b[0m\u001b[0;32m     29\u001b[0m         \u001b[0medge_with_weights\u001b[0m \u001b[1;33m=\u001b[0m \u001b[1;33m[\u001b[0m\u001b[1;33m]\u001b[0m\u001b[1;33m\u001b[0m\u001b[1;33m\u001b[0m\u001b[0m\n\u001b[0;32m     30\u001b[0m         \u001b[1;32mfor\u001b[0m \u001b[0mneighbor\u001b[0m \u001b[1;32min\u001b[0m \u001b[0mneighbors_list\u001b[0m\u001b[1;33m:\u001b[0m\u001b[1;33m\u001b[0m\u001b[1;33m\u001b[0m\u001b[0m\n",
      "\u001b[1;32m~\\Anaconda3\\lib\\site-packages\\networkx\\classes\\graph.py\u001b[0m in \u001b[0;36mneighbors\u001b[1;34m(self, n)\u001b[0m\n\u001b[0;32m   1266\u001b[0m             \u001b[1;32mreturn\u001b[0m \u001b[0miter\u001b[0m\u001b[1;33m(\u001b[0m\u001b[0mself\u001b[0m\u001b[1;33m.\u001b[0m\u001b[0m_adj\u001b[0m\u001b[1;33m[\u001b[0m\u001b[0mn\u001b[0m\u001b[1;33m]\u001b[0m\u001b[1;33m)\u001b[0m\u001b[1;33m\u001b[0m\u001b[1;33m\u001b[0m\u001b[0m\n\u001b[0;32m   1267\u001b[0m         \u001b[1;32mexcept\u001b[0m \u001b[0mKeyError\u001b[0m\u001b[1;33m:\u001b[0m\u001b[1;33m\u001b[0m\u001b[1;33m\u001b[0m\u001b[0m\n\u001b[1;32m-> 1268\u001b[1;33m             \u001b[1;32mraise\u001b[0m \u001b[0mNetworkXError\u001b[0m\u001b[1;33m(\u001b[0m\u001b[1;34m\"The node %s is not in the graph.\"\u001b[0m \u001b[1;33m%\u001b[0m \u001b[1;33m(\u001b[0m\u001b[0mn\u001b[0m\u001b[1;33m,\u001b[0m\u001b[1;33m)\u001b[0m\u001b[1;33m)\u001b[0m\u001b[1;33m\u001b[0m\u001b[1;33m\u001b[0m\u001b[0m\n\u001b[0m\u001b[0;32m   1269\u001b[0m \u001b[1;33m\u001b[0m\u001b[0m\n\u001b[0;32m   1270\u001b[0m     \u001b[1;33m@\u001b[0m\u001b[0mproperty\u001b[0m\u001b[1;33m\u001b[0m\u001b[1;33m\u001b[0m\u001b[0m\n",
      "\u001b[1;31mNetworkXError\u001b[0m: The node svd is not in the graph."
     ]
    }
   ],
   "source": [
    "if __name__==\"__main__\":\n",
    "    main()"
   ]
  },
  {
   "cell_type": "code",
   "execution_count": null,
   "metadata": {},
   "outputs": [],
   "source": []
  }
 ],
 "metadata": {
  "kernelspec": {
   "display_name": "Python 3",
   "language": "python",
   "name": "python3"
  },
  "language_info": {
   "codemirror_mode": {
    "name": "ipython",
    "version": 3
   },
   "file_extension": ".py",
   "mimetype": "text/x-python",
   "name": "python",
   "nbconvert_exporter": "python",
   "pygments_lexer": "ipython3",
   "version": "3.7.4"
  }
 },
 "nbformat": 4,
 "nbformat_minor": 4
}
